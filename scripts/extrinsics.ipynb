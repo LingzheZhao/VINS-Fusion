{
 "cells": [
  {
   "cell_type": "code",
   "execution_count": 14,
   "metadata": {},
   "outputs": [],
   "source": [
    "import pypose as pp\n",
    "import torch\n",
    "\n",
    "# use float64 for better precision in torch\n",
    "torch.set_default_dtype(torch.float64)\n",
    "torch.set_printoptions(precision=10)\n"
   ]
  },
  {
   "cell_type": "code",
   "execution_count": 10,
   "metadata": {},
   "outputs": [
    {
     "name": "stderr",
     "output_type": "stream",
     "text": [
      "/opt/conda/envs/nerfstudio/lib/python3.10/site-packages/pypose/lietensor/lietensor.py:917: UserWarning: Tensor Shape Invalid by calling <built-in method cat of type object at 0x7f983c162540>, go to https://pypose.org/docs/main/generated/pypose.LieTensor\n",
      "  warnings.warn('Tensor Shape Invalid by calling {}, ' \\\n"
     ]
    }
   ],
   "source": [
    "# Cam0\n",
    "R_velo_to_cam = torch.tensor([7.967514e-03,-9.999679e-01,-8.462264e-04,-2.771053e-03,8.241710e-04,-9.999958e-01,9.999644e-01,7.969825e-03,-2.764397e-03]).reshape(3,3).cuda()\n",
    "t_velo_to_cam = torch.tensor([-1.377769e-02,-5.542117e-02,-2.918589e-01]).cuda()\n",
    "R_imu_to_velo = torch.tensor([9.999976e-01,7.553071e-04,-2.035826e-03,-7.854027e-04,9.998898e-01,-1.482298e-02,2.024406e-03,1.482454e-02,9.998881e-01]).reshape(3,3).cuda()\n",
    "t_imu_to_velo = torch.tensor([-8.086759e-01,3.195559e-01,-7.997231e-01]).cuda()"
   ]
  },
  {
   "cell_type": "code",
   "execution_count": 11,
   "metadata": {},
   "outputs": [],
   "source": [
    "q_velo_to_cam = pp.mat2SO3(R_velo_to_cam)\n",
    "T_velo_to_cam = pp.SE3(torch.cat([t_velo_to_cam, q_velo_to_cam], dim=-1))\n",
    "q_imu_to_velo = pp.mat2SO3(R_imu_to_velo)\n",
    "T_imu_to_velo = pp.SE3(torch.cat([t_imu_to_velo, q_imu_to_velo], dim=-1))\n",
    "T_imu_to_cam = (T_velo_to_cam @ T_imu_to_velo)\n",
    "T_cam_to_imu = T_imu_to_cam.Inv()"
   ]
  },
  {
   "cell_type": "code",
   "execution_count": 18,
   "metadata": {},
   "outputs": [
    {
     "data": {
      "text/plain": [
       "tensor([ 0.0087511861, -0.9998642288,  0.0139601509, -0.3390897324,\n",
       "        -0.0047961109, -0.0140024663, -0.9998904301,  0.7468028460,\n",
       "         0.9999501783,  0.0086832454, -0.0049179702, -1.0957484538,\n",
       "         0.0000000000,  0.0000000000,  0.0000000000,  1.0000000000],\n",
       "       device='cuda:0')"
      ]
     },
     "execution_count": 18,
     "metadata": {},
     "output_type": "execute_result"
    }
   ],
   "source": [
    "T_imu_to_cam.matrix().flatten()"
   ]
  },
  {
   "cell_type": "code",
   "execution_count": 29,
   "metadata": {},
   "outputs": [
    {
     "data": {
      "text/plain": [
       "tensor([ 0.0087511861, -0.0047961109,  0.9999501783,  1.1022430484,\n",
       "        -0.9998642288, -0.0140024663,  0.0086832454, -0.3190719593,\n",
       "         0.0139601509, -0.9998904301, -0.0049179702,  0.7460659045,\n",
       "         0.0000000000,  0.0000000000,  0.0000000000,  1.0000000000],\n",
       "       device='cuda:0')"
      ]
     },
     "execution_count": 29,
     "metadata": {},
     "output_type": "execute_result"
    }
   ],
   "source": [
    "T_cam_to_imu.matrix().flatten()"
   ]
  },
  {
   "cell_type": "code",
   "execution_count": 37,
   "metadata": {},
   "outputs": [],
   "source": [
    "# Cam1\n",
    "R_cam1_to_cam = torch.tensor([9.993424e-01,1.830363e-02,-3.129928e-02,-1.856768e-02,9.997943e-01,-8.166432e-03,3.114337e-02,8.742218e-03,9.994767e-01]).reshape(3,3).cuda()\n",
    "t_cam1_to_cam = torch.tensor([-5.370000e-01,5.591661e-03,-1.200541e-02]).cuda()\n",
    "T_cam1_to_cam = pp.SE3(torch.cat([t_cam1_to_cam, pp.mat2SO3(R_cam1_to_cam)], dim=-1))\n",
    "T_imu_to_cam1 = T_cam1_to_cam @ (T_velo_to_cam @ T_imu_to_velo)\n",
    "T_cam1_to_imu = T_imu_to_cam1.Inv()"
   ]
  },
  {
   "cell_type": "code",
   "execution_count": 38,
   "metadata": {},
   "outputs": [
    {
     "data": {
      "text/plain": [
       "tensor([-0.0226400778, -0.0131236383,  0.9996575117,  1.1021600067,\n",
       "        -0.9997348439,  0.0044946607, -0.0225828505, -0.8562258198,\n",
       "        -0.0041967248, -0.9999037521, -0.0132218903,  0.7492446519,\n",
       "         0.0000000000,  0.0000000000,  0.0000000000,  1.0000000000],\n",
       "       device='cuda:0')"
      ]
     },
     "execution_count": 38,
     "metadata": {},
     "output_type": "execute_result"
    }
   ],
   "source": [
    "T_cam1_to_imu.matrix().flatten()"
   ]
  },
  {
   "cell_type": "code",
   "execution_count": null,
   "metadata": {},
   "outputs": [],
   "source": []
  }
 ],
 "metadata": {
  "kernelspec": {
   "display_name": "nerfstudio",
   "language": "python",
   "name": "python3"
  },
  "language_info": {
   "codemirror_mode": {
    "name": "ipython",
    "version": 3
   },
   "file_extension": ".py",
   "mimetype": "text/x-python",
   "name": "python",
   "nbconvert_exporter": "python",
   "pygments_lexer": "ipython3",
   "version": "3.10.12"
  }
 },
 "nbformat": 4,
 "nbformat_minor": 2
}

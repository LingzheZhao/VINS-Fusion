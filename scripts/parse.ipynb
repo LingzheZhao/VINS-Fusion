{
 "cells": [
  {
   "cell_type": "code",
   "execution_count": null,
   "metadata": {},
   "outputs": [],
   "source": [
    "import os\n",
    "import numpy as np\n",
    "import pandas as pd\n",
    "from pathlib import Path\n",
    "import shutil\n",
    "import tqdm"
   ]
  },
  {
   "cell_type": "code",
   "execution_count": null,
   "metadata": {},
   "outputs": [],
   "source": [
    "raw_sequence_name = [\n",
    "    '2011_10_03_drive_0027', '2011_10_03_drive_0042',\n",
    "    '2011_10_03_drive_0034', None,\n",
    "    '2011_09_30_drive_0016', '2011_09_30_drive_0018',\n",
    "    '2011_09_30_drive_0020', '2011_09_30_drive_0027',\n",
    "    '2011_09_30_drive_0028', '2011_09_30_drive_0033',\n",
    "    '2011_09_30_drive_0034'\n",
    "]\n",
    "raw_sequence_start = [0] * 8 + [1100] + [0] * 2\n",
    "raw_sequence_end = [\n",
    "    4540, 1100, 4660, 800, 270, 2760, 1100, 1100, 5170, 1590, 1200, 382]"
   ]
  },
  {
   "cell_type": "code",
   "execution_count": null,
   "metadata": {},
   "outputs": [],
   "source": [
    "kitti_root = Path('/data/datasets/kitti/')\n",
    "kitti_unsynced = kitti_root / \"raw_unsynced\"\n",
    "kitti_synced = kitti_root / \"raw_synced\"\n",
    "kitti_fixed = kitti_root / \"raw_fixed\"\n",
    "kitti_odom = kitti_root / \"data_odometry_gray\""
   ]
  },
  {
   "cell_type": "code",
   "execution_count": null,
   "metadata": {},
   "outputs": [],
   "source": [
    "# Odometry Seq\n",
    "SEQUENCE = 10\n",
    "kitti_subset = raw_sequence_name[SEQUENCE]\n",
    "kitti_set = kitti_subset[:10]"
   ]
  },
  {
   "cell_type": "code",
   "execution_count": null,
   "metadata": {},
   "outputs": [],
   "source": [
    "fixed_oxts_file = kitti_fixed / kitti_set / kitti_subset / 'oxts-fixed' / \"data.txt\"\n",
    "fixed_oxts = pd.read_csv(fixed_oxts_file, sep=',', header=None, index_col=False)\n",
    "# add column names\n",
    "fixed_oxts.columns = ['timestamp', 'lat', 'lon', 'alt', 'roll', 'pitch', 'yaw', 'vn', 've', 'vf', 'vl', 'vu', 'ax', 'ay', 'az', 'af',\n",
    "                      'al', 'au', 'wx', 'wy', 'wz', 'wf', 'wl', 'wu', 'pos_accuracy', 'vel_accuracy', 'navstat',\n",
    "                      'numsats', 'posmode', 'velmode', 'orimode']\n",
    "\n",
    "\n",
    "# convert timestamp to nanoseconds\n",
    "fixed_oxts['timestamp'] = fixed_oxts['timestamp'] * 1e9\n",
    "\n",
    "\n",
    "# to ORB-SLAM2 format\n",
    "\n",
    "# select timestamp, wx, wy, wz, ax, ay, az\n",
    "fixed_oxts = fixed_oxts[['timestamp', 'wx', 'wy', 'wz', 'ax', 'ay', 'az']]\n",
    "\n",
    "# format timestamp to string without decimals\n",
    "fixed_oxts['timestamp'] = fixed_oxts['timestamp'].apply(lambda x: f'{x:.0f}')\n",
    "# print length\n",
    "print(fixed_oxts.shape)\n",
    "# remove NaNs\n",
    "fixed_oxts = fixed_oxts.dropna()\n",
    "# print length\n",
    "print(fixed_oxts.shape)\n",
    "# write to file\n",
    "output_file = kitti_fixed / \"KITTI_IMU\" / f'{SEQUENCE:02}.txt'\n",
    "output_file.parent.mkdir(parents=True, exist_ok=True)\n",
    "with open(output_file, 'w') as file:\n",
    "    file.write(\"#timestamp [ns],w_RS_S_x [rad s^-1],w_RS_S_y [rad s^-1],w_RS_S_z [rad s^-1],a_RS_S_x [m s^-2],a_RS_S_y [m s^-2],a_RS_S_z [m s^-2]\\n\")\n",
    "    fixed_oxts.to_csv(file, sep=',', header=False, index=False)\n"
   ]
  },
  {
   "cell_type": "code",
   "execution_count": null,
   "metadata": {},
   "outputs": [],
   "source": [
    "# Read image timestamps\n",
    "image_timestamps_file = kitti_synced / kitti_set / f\"{kitti_subset}_sync\" / 'image_00' / \"timestamps.txt\"\n",
    "# def read_timestamp_file(file):\n",
    "#     with open(file, 'r') as file:\n",
    "#         data = file.readlines()\n",
    "#     return [pd.to_datetime(ts, format=\"%Y-%m-%d %H:%M:%S.%f\\n\") \n",
    "#         for ts in data]\n",
    "\n",
    "# def datetimes_to_unix_timestamps(datetimes):\n",
    "#     return np.array([\n",
    "#         (t - np.datetime64('1970-01-01T00:00:00')).astype(int)\n",
    "#             for t in pd.to_datetime(datetimes).to_numpy()])\n",
    "\n",
    "# # read timestamps\n",
    "# image_timestamps = read_timestamp_file(image_timestamps_file)\n",
    "# # convert to unix timestamps\n",
    "# image_timestamps = datetimes_to_unix_timestamps(image_timestamps)  # in nanoseconds\n",
    "# print(image_timestamps.shape)\n",
    "\n",
    "image_timestamps = pd.read_csv(image_timestamps_file, sep=' ', header=None, index_col=False)\n",
    "\n",
    "index_start = raw_sequence_start[SEQUENCE]\n",
    "index_end = raw_sequence_end[SEQUENCE] + 1\n",
    "# select timestamps\n",
    "image_timestamps = image_timestamps[index_start:index_end]\n",
    "\n",
    "# write timestamps in nanoseconds without decimals\n",
    "output_file = kitti_fixed / \"KITTI_TimeStamps\" / f'{SEQUENCE:02}.txt'\n",
    "output_file.parent.mkdir(parents=True, exist_ok=True)\n",
    "with open(output_file, 'w') as file:\n",
    "    for timestamp in image_timestamps:\n",
    "        file.write(f'{timestamp:.0f}\\n')\n",
    "\n",
    "# Copy images\n",
    "# image_source = kitti_synced / kitti_set / f\"{kitti_subset}_sync\" / 'image_00' / \"data\"\n",
    "image_source = kitti_odom / \"sequences\" / f\"{SEQUENCE:02}\" / \"image_0\"\n",
    "euroc_like_dest = kitti_fixed / \"KITTI_Images\" / f'{SEQUENCE:02}' / \"mav0\"\n",
    "image_dest = euroc_like_dest / \"cam0\" / \"data\"\n",
    "image_dest.mkdir(parents=True, exist_ok=True)\n",
    "\n",
    "for index, timestamp in tqdm.tqdm(zip(range(index_start, index_end), image_timestamps)):\n",
    "    shutil.copyfile(\n",
    "        # image_source / f'{index:010}.png',\n",
    "        image_source / f'{index:06}.png',\n",
    "        image_dest / f'{timestamp:.0f}.png')\n",
    "\n",
    "# Copy IMU\n",
    "target_file = euroc_like_dest / \"imu0\" / \"data.csv\"\n",
    "target_file.parent.mkdir(parents=True, exist_ok=True)\n",
    "shutil.copyfile(\n",
    "    kitti_fixed / \"KITTI_IMU\" / f'{SEQUENCE:02}.txt',\n",
    "    target_file\n",
    ")"
   ]
  },
  {
   "cell_type": "code",
   "execution_count": null,
   "metadata": {},
   "outputs": [],
   "source": []
  }
 ],
 "metadata": {
  "kernelspec": {
   "display_name": "nerfstudio",
   "language": "python",
   "name": "python3"
  },
  "language_info": {
   "codemirror_mode": {
    "name": "ipython",
    "version": 3
   },
   "file_extension": ".py",
   "mimetype": "text/x-python",
   "name": "python",
   "nbconvert_exporter": "python",
   "pygments_lexer": "ipython3",
   "version": "3.10.12"
  }
 },
 "nbformat": 4,
 "nbformat_minor": 2
}
